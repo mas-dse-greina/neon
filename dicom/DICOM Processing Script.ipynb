{
 "cells": [
  {
   "cell_type": "code",
   "execution_count": 8,
   "metadata": {
    "collapsed": true
   },
   "outputs": [],
   "source": [
    "import dicom\n",
    "from matplotlib import pyplot as plt, cm\n",
    "import numpy as np\n",
    "import cv2 \n",
    "import os\n",
    "\n",
    "%matplotlib inline"
   ]
  },
  {
   "cell_type": "code",
   "execution_count": 9,
   "metadata": {},
   "outputs": [],
   "source": [
    "DATA_DIR = \"/Volumes/homes/users/anthony.reina/dicom/Lung CT/stage1/\"\n",
    "    \n",
    "subjects = os.listdir(DATA_DIR)"
   ]
  },
  {
   "cell_type": "code",
   "execution_count": 10,
   "metadata": {},
   "outputs": [
    {
     "data": {
      "text/plain": [
       "['0030a160d58723ff36d73f41b170ec21',\n",
       " '0092c13f9e00a3717fdc940641f00015',\n",
       " '00cba091fa4ad62cc3200a657aeb957e',\n",
       " '00edff4f51a893d80dae2d42a7f45ad1',\n",
       " '013395589c01aa01f8df81d80fb0e2b8',\n",
       " '.DS_Store']"
      ]
     },
     "execution_count": 10,
     "metadata": {},
     "output_type": "execute_result"
    }
   ],
   "source": [
    "subjects"
   ]
  },
  {
   "cell_type": "code",
   "execution_count": null,
   "metadata": {
    "collapsed": true
   },
   "outputs": [],
   "source": []
  }
 ],
 "metadata": {
  "kernelspec": {
   "display_name": "neon",
   "language": "python",
   "name": "neon"
  },
  "language_info": {
   "codemirror_mode": {
    "name": "ipython",
    "version": 2
   },
   "file_extension": ".py",
   "mimetype": "text/x-python",
   "name": "python",
   "nbconvert_exporter": "python",
   "pygments_lexer": "ipython2",
   "version": "2.7.13"
  }
 },
 "nbformat": 4,
 "nbformat_minor": 2
}
