{
 "cells": [
  {
   "cell_type": "markdown",
   "metadata": {},
   "source": [
    "# Displaying the CIFAR-10 Images In Neon\n",
    "\n",
    "Tony Reina<br>\n",
    "27 JUN 2017\n",
    "\n",
    "Neon has convolutional neural networks to predict the 10 classes from the CIFAR-10 dataset. However, I found it difficult to find code that would allow me to just display the images. So I wrote this tutorial.\n",
    "\n",
    "Let's load the [CIFAR-10](http://www.cs.toronto.edu/%7Ekriz/cifar.html) dataset using Neon's [ModelZoo](https://github.com/NervanaSystems/ModelZoo) helper function [CIFAR10](http://neon.nervanasys.com/index.html/generated/neon.data.image.CIFAR10.html).\n",
    "\n",
    "CIFAR-10 is a labeled dataset of 60,0000 32x32 images collected by Alex Krizhevsky, Vinod Nair, and Geoffrey Hinton. The Neon data randomly selects 50,000 of the images for training and 10,000 for testing/validation. \n",
    "\n",
    "There are 10 classes:\n",
    "\n",
    "| Class # | Class Name |\n",
    "|: ------- :| ----------- |\n",
    "| 0 | airplane |\n",
    "| 1 | automobile |\n",
    "| 2 | bird |\n",
    "| 3 | cat |\n",
    "| 4 | deer |\n",
    "| 5 | dog |\n",
    "| 6 | frog |\n",
    "| 7 | horse |\n",
    "| 8 | ship |\n",
    "| 9 | truck |\n",
    "\n",
    "\n",
    "\n",
    "The classes are mutually exclusive. For example, the images of trucks are large vehicles (fire trucks, dump trucks) rather than pickup trucks or SUVs (which could be considered automobiles)."
   ]
  },
  {
   "cell_type": "markdown",
   "metadata": {},
   "source": [
    ">Licensed under the Apache License, Version 2.0 (the \"License\");\n",
    "you may not use this file except in compliance with the License. You may obtain a copy of the License at\n",
    "\n",
    ">     http://www.apache.org/licenses/LICENSE-2.0\n",
    "\n",
    "> Unless required by applicable law or agreed to in writing, software distributed under the License is distributed on an \"AS IS\" BASIS, WITHOUT WARRANTIES OR CONDITIONS OF ANY KIND, either express or implied. See the License for the specific language governing permissions and limitations under the License."
   ]
  },
  {
   "cell_type": "code",
   "execution_count": 1,
   "metadata": {
    "collapsed": true
   },
   "outputs": [],
   "source": [
    "from neon.data import CIFAR10   # Neon's helper function to download the CIFAR-10 data\n",
    "from PIL import Image           # The Python Image Library (PIL)\n",
    "import numpy as np              # Our old friend numpy"
   ]
  },
  {
   "cell_type": "markdown",
   "metadata": {},
   "source": [
    "## Load the Neon ModelZoo data for CIFAR-10\n",
    "\n",
    "When you call CIFAR10's load_data() helper function, it will look for the CIFAR-10 data in the file path you've specified and download the file from the [University of Toronto website](http://www.cs.toronto.edu/%7Ekriz/cifar-10-python.tar.gz) if needed (the file is 163 MB). \n",
    "\n",
    "According to the website, the archive contains the files **data_batch_1, data_batch_2, ..., data_batch_5**, as well as **test_batch**. Each of these files is a Python \"pickled\" object produced with cPickle.\n",
    "\n",
    "These pickled batch files contain dictionaries with the images:\n",
    "\n",
    "+ **data** is a Nx3072 numpy array of unsigned 8-bit integers (uint8) (where N is the number of images; 50,000 for train and 10,000 for validation). Each row of the array stores a 32x32 color image. The first 1024 entries contain the red channel values, the next 1024 the green, and the final 1024 the blue. The image is stored in row-major order, so that the first 32 entries of the array are the red channel values of the first row of the image.\n",
    "+ **labels** is a list of N numbers (where N is the number of images; 50,000 for train and 10,000 for validation) in the range 0-9. The number at index i indicates the label of the ith image in the array data."
   ]
  },
  {
   "cell_type": "code",
   "execution_count": 2,
   "metadata": {
    "collapsed": true
   },
   "outputs": [],
   "source": [
    "dataset = dict()   # We'll create a dictionary for the training and testing/validation set images"
   ]
  },
  {
   "cell_type": "code",
   "execution_count": 3,
   "metadata": {
    "collapsed": true
   },
   "outputs": [],
   "source": [
    "pathToSaveData = './path'  # The path where neon will download and extract the data files"
   ]
  },
  {
   "cell_type": "code",
   "execution_count": 4,
   "metadata": {},
   "outputs": [],
   "source": [
    "cifar10 = CIFAR10(path=pathToSaveData, normalize=False, whiten=False, contrast_normalize=False)\n",
    "dataset['train'], dataset['validation'], numClasses = cifar10.load_data()"
   ]
  },
  {
   "cell_type": "markdown",
   "metadata": {},
   "source": [
    "## Data format\n",
    "\n",
    "The images are loaded into the 'train' and 'validation' dictionary keys. There are 50,000 train images and 10,000 validation images. The first element [0] is the image data. The second element [1] is the image label (class 0-9).\n",
    "\n",
    "To display one of the images, we just need to reshape the data. We're given the 3x32x32 images as an unraveled 3,072 element vector. To display them properly, we need to reshape them to 3x32x32 and then move the 3 red-blue-green channels to the first dimension of the tensor."
   ]
  },
  {
   "cell_type": "code",
   "execution_count": 5,
   "metadata": {
    "collapsed": true
   },
   "outputs": [],
   "source": [
    "import matplotlib.pyplot as plt\n",
    "%matplotlib inline\n",
    "\n",
    "def getImage(dataset=dataset, setName='train', index=0):\n",
    "    \n",
    "    # The images are index 0 of the dictionary\n",
    "    # They are stored as a 3072 element vector so we need to reshape this into a tensor.\n",
    "    # The first dimension is the red/green/blue channel, the second is the pixel row, the third is the pixel column\n",
    "    im = dataset[setName][0][index].reshape(3,32,32)\n",
    "    \n",
    "    # PIL and matplotlib want the red/green/blue channels last in the matrix. So we just need to rearrange \n",
    "    # the tensor to put that dimension last.\n",
    "    im = np.transpose(im, axes=[1, 2, 0])  # Put the 0-th dimension at the end\n",
    "    \n",
    "    # Image are supposed to be unsigned 8-bit integers. If we keep the raw images, then\n",
    "    # this line is not needed. However, if we normalize or whiten the image, then the values become\n",
    "    # floats. So we need to convert them back to uint8s.\n",
    "    im = np.uint8(im)  \n",
    "    \n",
    "    classIndex = dataset[setName][1][index][0] # This is the class label (0-9)\n",
    "    \n",
    "    classNames = ['airplane', 'automobile', 'bird', 'cat', 'deer', 'dog', 'frog', 'horse', 'ship', 'truck']\n",
    "    \n",
    "    # Now use PIL's Image helper to turn our array into something that matplotlib will understand as an image.\n",
    "    return [classIndex, classNames[classIndex], Image.fromarray(im)]"
   ]
  },
  {
   "cell_type": "code",
   "execution_count": 6,
   "metadata": {},
   "outputs": [
    {
     "data": {
      "image/png": "[encoded data removed]",
      "text/plain": [
       "<matplotlib.figure.Figure at 0x7f6434055050>"
      ]
     },
     "metadata": {},
     "output_type": "display_data"
    }
   ],
   "source": [
    "idx, name, im = getImage(dataset, 'train', 1022) # Get image 1022 of the training data.\n",
    "plt.imshow(im);\n",
    "plt.title(name);\n",
    "plt.axis('off');"
   ]
  },
  {
   "cell_type": "code",
   "execution_count": 7,
   "metadata": {},
   "outputs": [
    {
     "data": {
      "image/png": "[encoded data removed]",
      "text/plain": [
       "<matplotlib.figure.Figure at 0x7f63fe3fcfd0>"
      ]
     },
     "metadata": {},
     "output_type": "display_data"
    }
   ],
   "source": [
    "idx, name, im = getImage(dataset, 'train', 8888)  # Get image 8888 of the training data\n",
    "plt.imshow(im);\n",
    "plt.title(name);\n",
    "plt.axis('off');"
   ]
  },
  {
   "cell_type": "code",
   "execution_count": 8,
   "metadata": {},
   "outputs": [
    {
     "data": {
      "image/png": "[encoded data removed]",
      "text/plain": [
       "<matplotlib.figure.Figure at 0x7f63fe38b8d0>"
      ]
     },
     "metadata": {},
     "output_type": "display_data"
    }
   ],
   "source": [
    "idx, name, im = getImage(dataset, 'train', 5002)   # Get image 5002 of the training data\n",
    "plt.imshow(im);\n",
    "plt.title(name);\n",
    "plt.axis('off');"
   ]
  },
  {
   "cell_type": "code",
   "execution_count": 9,
   "metadata": {},
   "outputs": [
    {
     "data": {
      "image/png": "[encoded data removed]",
      "text/plain": [
       "<matplotlib.figure.Figure at 0x7f63fe19db90>"
      ]
     },
     "metadata": {},
     "output_type": "display_data"
    }
   ],
   "source": [
    "idx, name, im = getImage(dataset, 'train', 10022)  # Get image 10022 of the training data\n",
    "plt.imshow(im);\n",
    "plt.title(name);\n",
    "plt.axis('off');"
   ]
  },
  {
   "cell_type": "code",
   "execution_count": 10,
   "metadata": {},
   "outputs": [
    {
     "data": {
      "image/png": "[encoded data removed]",
      "text/plain": [
       "<matplotlib.figure.Figure at 0x7f63fe27dad0>"
      ]
     },
     "metadata": {},
     "output_type": "display_data"
    }
   ],
   "source": [
    "idx, name, im = getImage(dataset, 'train', 7022)   # Get image 7022 of the training data\n",
    "plt.imshow(im);\n",
    "plt.title(name);\n",
    "plt.axis('off');"
   ]
  },
  {
   "cell_type": "code",
   "execution_count": 11,
   "metadata": {},
   "outputs": [
    {
     "data": {
      "image/png": "[encoded data removed]",
      "text/plain": [
       "<matplotlib.figure.Figure at 0x7f63fe2cd950>"
      ]
     },
     "metadata": {},
     "output_type": "display_data"
    }
   ],
   "source": [
    "idx, name, im = getImage(dataset, 'validation', 1022)  # Get image 1022 of the validation data\n",
    "plt.imshow(im);\n",
    "plt.title(name);\n",
    "plt.axis('off');"
   ]
  },
  {
   "cell_type": "code",
   "execution_count": 12,
   "metadata": {},
   "outputs": [
    {
     "data": {
      "image/png": "[encoded data removed]",
      "text/plain": [
       "<matplotlib.figure.Figure at 0x7f63fe3ba5d0>"
      ]
     },
     "metadata": {},
     "output_type": "display_data"
    }
   ],
   "source": [
    "idx, name, im = getImage(dataset, 'validation', 1031)   # Get image 1031 of the validation data\n",
    "plt.imshow(im);\n",
    "plt.title(name);\n",
    "plt.axis('off');"
   ]
  },
  {
   "cell_type": "code",
   "execution_count": 13,
   "metadata": {},
   "outputs": [
    {
     "data": {
      "image/png": "[encoded data removed]",
      "text/plain": [
       "<matplotlib.figure.Figure at 0x7f63fe0ff110>"
      ]
     },
     "metadata": {},
     "output_type": "display_data"
    }
   ],
   "source": [
    "idx, name, im = getImage(dataset, 'validation', 9135)  # Get image 9135 of the validation data\n",
    "plt.imshow(im);\n",
    "plt.title(name);\n",
    "plt.axis('off');"
   ]
  },
  {
   "cell_type": "code",
   "execution_count": null,
   "metadata": {
    "collapsed": true
   },
   "outputs": [],
   "source": []
  },
  {
   "cell_type": "code",
   "execution_count": null,
   "metadata": {
    "collapsed": true
   },
   "outputs": [],
   "source": []
  }
 ],
 "metadata": {
  "kernelspec": {
   "display_name": "Python [conda env:neon]",
   "language": "python",
   "name": "conda-env-neon-py"
  },
  "language_info": {
   "codemirror_mode": {
    "name": "ipython",
    "version": 2
   },
   "file_extension": ".py",
   "mimetype": "text/x-python",
   "name": "python",
   "nbconvert_exporter": "python",
   "pygments_lexer": "ipython2",
   "version": "2.7.13"
  }
 },
 "nbformat": 4,
 "nbformat_minor": 2
}
