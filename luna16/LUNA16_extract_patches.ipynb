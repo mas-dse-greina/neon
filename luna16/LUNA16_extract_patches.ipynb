{
 "cells": [
  {
   "cell_type": "markdown",
   "metadata": {},
   "source": [
    "# Simple script for extracting patches from LUNA16 dataset\n",
    "\n",
    "This is a first pass. Let's keep things simple. The goal is to just extract 64x64 pixel patches around just the transverse slices with the candidates in the center. We'll have some 700k images. Only about 1,100 patches will have class 1 (true nodule). The remainder will be class 0 (non-nodule). We'll take this data and run it though a modified VGG classifier (done in a second script).  If the classifier can make a good class prediction, then we know we've got data that will work with more advanced models (e.g. Faster R-CNN to both localize and classify the candidates in the full slice images)"
   ]
  },
  {
   "cell_type": "code",
   "execution_count": 1,
   "metadata": {
    "collapsed": true
   },
   "outputs": [],
   "source": [
    "import SimpleITK as sitk\n",
    "import numpy as np\n",
    "import pandas as pd\n",
    "import os\n",
    "\n",
    "import ntpath"
   ]
  },
  {
   "cell_type": "code",
   "execution_count": 2,
   "metadata": {
    "collapsed": true
   },
   "outputs": [],
   "source": [
    "# To get the data:\n",
    "# wget https://www.dropbox.com/sh/mtip9dx6zt9nb3z/AAAs2wbJxbNM44-uafZyoMVca/subset5.zip\n",
    "# The files are 7-zipped. Regular linux unzip won't work to uncompress them. Use 7za instead.\n",
    "# 7za e subset5.zip\n",
    "\n",
    "DATA_DIR = \"/Volumes/data/tonyr/dicom/LUNA16/\"\n",
    "cand_path = 'CSVFILES/candidates_with_annotations.csv'"
   ]
  },
  {
   "cell_type": "code",
   "execution_count": 3,
   "metadata": {
    "collapsed": true
   },
   "outputs": [],
   "source": [
    "def extractCandidates(img_file):\n",
    "    \n",
    "    # Get the name of the file\n",
    "    subjectName = ntpath.splitext(ntpath.basename(img_file))[0]  # Strip off the .mhd extension\n",
    "    \n",
    "    # Read the list of candidate ROI\n",
    "    dfCandidates = pd.read_csv(DATA_DIR+cand_path)\n",
    "    \n",
    "    numCandidates = dfCandidates[dfCandidates['seriesuid']==subjectName].shape[0]\n",
    "    print('There are {} candidate nodules in this file.'.format(numCandidates))\n",
    "    \n",
    "    numNonNodules = sum(dfCandidates[dfCandidates['seriesuid']==subjectName]['class'] == 0)\n",
    "    numNodules = sum(dfCandidates[dfCandidates['seriesuid']==subjectName]['class'] == 1)\n",
    "    #print('{} are true nodules (class 1) and {} are non-nodules (class 0)'.format(numNodules, numNonNodules))\n",
    "    \n",
    "    # Read if the candidate ROI is a nodule (1) or non-nodule (0)\n",
    "    candidateValues = dfCandidates[dfCandidates['seriesuid']==subjectName]['class'].values\n",
    "    \n",
    "    # Get the world coordinates (mm) of the candidate ROI center\n",
    "    worldCoords = dfCandidates[dfCandidates['seriesuid']==subjectName][['coordX', 'coordY', 'coordZ']].values\n",
    "    \n",
    "    # Use SimpleITK to read the mhd image\n",
    "    itkimage = sitk.ReadImage(img_file)\n",
    "    \n",
    "    # Get the real world origin (mm) for this image\n",
    "    originMatrix = np.tile(itkimage.GetOrigin(), (numCandidates,1))  # Real world origin for this image (0,0)\n",
    "    \n",
    "    # Subtract the real world origin and scale by the real world (mm per pixel)\n",
    "    # This should give us the X,Y,Z coordinates for the candidates\n",
    "    candidatesPixels = (np.round(np.absolute(worldCoords - originMatrix) / itkimage.GetSpacing())).astype(int)\n",
    "    \n",
    "    # Replace the missing diameters with the 50th percentile diameter \n",
    "    \n",
    "    candidateDiameter = dfCandidates['diameter_mm'].fillna(dfCandidates['diameter_mm'].quantile(0.5)).values / itkimage.GetSpacing()[1]\n",
    "     \n",
    "    candidatePatches = []\n",
    "    \n",
    "    imgAll = sitk.GetArrayFromImage(itkimage) # Read the image volume\n",
    "    \n",
    "    for candNum in range(numCandidates):\n",
    "        \n",
    "        #print('Extracting candidate patch #{}'.format(candNum))\n",
    "        candidateVoxel = candidatesPixels[candNum,:]\n",
    "        xpos = int(candidateVoxel[0])\n",
    "        ypos = int(candidateVoxel[1])\n",
    "        zpos = int(candidateVoxel[2])\n",
    "        \n",
    "        # Need to handle the candidates where the window would extend beyond the image boundaries\n",
    "        windowSize = 32\n",
    "        x_lower = np.max([0, xpos - windowSize])  # Return 0 if position off image\n",
    "        x_upper = np.min([xpos + windowSize, itkimage.GetWidth()]) # Return  maxWidth if position off image\n",
    "        \n",
    "        y_lower = np.max([0, ypos - windowSize])  # Return 0 if position off image\n",
    "        y_upper = np.min([ypos + windowSize, itkimage.GetHeight()]) # Return  maxHeight if position off image\n",
    "         \n",
    "        # SimpleITK is x,y,z. Numpy is z, y, x.\n",
    "        imgPatch = imgAll[zpos, y_lower:y_upper, x_lower:x_upper]\n",
    "        \n",
    "        # Normalize to the Hounsfield units\n",
    "        # TODO: I don't think we should normalize into Housefield units\n",
    "        imgPatchNorm = imgPatch #normalizePlanes(imgPatch)\n",
    "        \n",
    "        candidatePatches.append(imgPatchNorm)  # Append the candidate image patches to a python list\n",
    "\n",
    "    return candidatePatches, candidateValues, candidateDiameter"
   ]
  },
  {
   "cell_type": "code",
   "execution_count": null,
   "metadata": {
    "collapsed": true,
    "scrolled": false
   },
   "outputs": [],
   "source": []
  },
  {
   "cell_type": "code",
   "execution_count": 4,
   "metadata": {
    "collapsed": true
   },
   "outputs": [],
   "source": [
    "from scipy.misc import toimage\n",
    "\n",
    "# We need to save the array as an image.\n",
    "# This is the easiest way. Matplotlib seems to like adding a white border that is hard to kill.\n",
    "\n",
    "def SavePatches(img_file, patchesArray, valuesArray):\n",
    "    \n",
    "    saveDir = ntpath.dirname(img_file) + '/patches'\n",
    "\n",
    "    try:\n",
    "        os.stat(saveDir)\n",
    "    except:\n",
    "        os.mkdir(saveDir) \n",
    "\n",
    "    subjectName = ntpath.splitext(ntpath.basename(img_file))[0]\n",
    "\n",
    "    print('Saving image patches for file {}.'.format(subjectName))\n",
    "    for i in range(len(valuesArray)):\n",
    "\n",
    "        print('\\r{} of {}'.format(i+1, len(valuesArray))),\n",
    "        im = toimage(patchesArray[i])\n",
    "        im.save(saveDir + '/{}_{}_{}.png'.format(subjectName, i, valuesArray[i]))\n",
    "\n",
    "    print('Finished {}'.format(subjectName))"
   ]
  },
  {
   "cell_type": "code",
   "execution_count": 5,
   "metadata": {},
   "outputs": [
    {
     "name": "stdout",
     "output_type": "stream",
     "text": [
      "There are 1129 candidate nodules in this file.\n",
      "Saving image patches for file 1.3.6.1.4.1.14519.5.2.1.6279.6001.126264578931778258890371755354.\n",
      "1129 of 1129                                                                                                                                                                                                                                             \n",
      "Finished 1.3.6.1.4.1.14519.5.2.1.6279.6001.126264578931778258890371755354\n",
      "There are 1262 candidate nodules in this file.\n",
      "Saving image patches for file 1.3.6.1.4.1.14519.5.2.1.6279.6001.130438550890816550994739120843.\n",
      "601 of 1262                                                                                                                 "
     ]
    },
    {
     "ename": "KeyboardInterrupt",
     "evalue": "",
     "output_type": "error",
     "traceback": [
      "\u001b[0;31m---------------------------------------------------------------------------\u001b[0m",
      "\u001b[0;31mKeyboardInterrupt\u001b[0m                         Traceback (most recent call last)",
      "\u001b[0;32m<ipython-input-5-b76582fee06c>\u001b[0m in \u001b[0;36m<module>\u001b[0;34m()\u001b[0m\n\u001b[1;32m      8\u001b[0m             \u001b[0mpatchesArray\u001b[0m\u001b[0;34m,\u001b[0m \u001b[0mvaluesArray\u001b[0m\u001b[0;34m,\u001b[0m \u001b[0mnoduleDiameter\u001b[0m \u001b[0;34m=\u001b[0m \u001b[0mextractCandidates\u001b[0m\u001b[0;34m(\u001b[0m\u001b[0mimg_file\u001b[0m\u001b[0;34m)\u001b[0m\u001b[0;34m\u001b[0m\u001b[0m\n\u001b[1;32m      9\u001b[0m \u001b[0;34m\u001b[0m\u001b[0m\n\u001b[0;32m---> 10\u001b[0;31m             \u001b[0mSavePatches\u001b[0m\u001b[0;34m(\u001b[0m\u001b[0mimg_file\u001b[0m\u001b[0;34m,\u001b[0m \u001b[0mpatchesArray\u001b[0m\u001b[0;34m,\u001b[0m \u001b[0mvaluesArray\u001b[0m\u001b[0;34m)\u001b[0m\u001b[0;34m\u001b[0m\u001b[0m\n\u001b[0m\u001b[1;32m     11\u001b[0m \u001b[0;34m\u001b[0m\u001b[0m\n\u001b[1;32m     12\u001b[0m             \u001b[0mi\u001b[0m \u001b[0;34m+=\u001b[0m \u001b[0;36m1\u001b[0m\u001b[0;34m\u001b[0m\u001b[0m\n",
      "\u001b[0;32m<ipython-input-4-3fafdfad72d9>\u001b[0m in \u001b[0;36mSavePatches\u001b[0;34m(img_file, patchesArray, valuesArray)\u001b[0m\n\u001b[1;32m     20\u001b[0m         \u001b[0;32mprint\u001b[0m\u001b[0;34m(\u001b[0m\u001b[0;34m'\\r{} of {}'\u001b[0m\u001b[0;34m.\u001b[0m\u001b[0mformat\u001b[0m\u001b[0;34m(\u001b[0m\u001b[0mi\u001b[0m\u001b[0;34m+\u001b[0m\u001b[0;36m1\u001b[0m\u001b[0;34m,\u001b[0m \u001b[0mlen\u001b[0m\u001b[0;34m(\u001b[0m\u001b[0mvaluesArray\u001b[0m\u001b[0;34m)\u001b[0m\u001b[0;34m)\u001b[0m\u001b[0;34m)\u001b[0m\u001b[0;34m,\u001b[0m\u001b[0;34m\u001b[0m\u001b[0m\n\u001b[1;32m     21\u001b[0m         \u001b[0mim\u001b[0m \u001b[0;34m=\u001b[0m \u001b[0mtoimage\u001b[0m\u001b[0;34m(\u001b[0m\u001b[0mpatchesArray\u001b[0m\u001b[0;34m[\u001b[0m\u001b[0mi\u001b[0m\u001b[0;34m]\u001b[0m\u001b[0;34m)\u001b[0m\u001b[0;34m\u001b[0m\u001b[0m\n\u001b[0;32m---> 22\u001b[0;31m         \u001b[0mim\u001b[0m\u001b[0;34m.\u001b[0m\u001b[0msave\u001b[0m\u001b[0;34m(\u001b[0m\u001b[0msaveDir\u001b[0m \u001b[0;34m+\u001b[0m \u001b[0;34m'/{}_{}_{}.png'\u001b[0m\u001b[0;34m.\u001b[0m\u001b[0mformat\u001b[0m\u001b[0;34m(\u001b[0m\u001b[0msubjectName\u001b[0m\u001b[0;34m,\u001b[0m \u001b[0mvaluesArray\u001b[0m\u001b[0;34m[\u001b[0m\u001b[0mi\u001b[0m\u001b[0;34m]\u001b[0m\u001b[0;34m,\u001b[0m \u001b[0mi\u001b[0m\u001b[0;34m)\u001b[0m\u001b[0;34m)\u001b[0m\u001b[0;34m\u001b[0m\u001b[0m\n\u001b[0m\u001b[1;32m     23\u001b[0m \u001b[0;34m\u001b[0m\u001b[0m\n\u001b[1;32m     24\u001b[0m     \u001b[0;32mprint\u001b[0m\u001b[0;34m(\u001b[0m\u001b[0;34m''\u001b[0m\u001b[0;34m)\u001b[0m\u001b[0;34m\u001b[0m\u001b[0m\n",
      "\u001b[0;32m/Users/ganthony/anaconda/envs/neon/lib/python2.7/site-packages/PIL/Image.pyc\u001b[0m in \u001b[0;36msave\u001b[0;34m(self, fp, format, **params)\u001b[0m\n\u001b[1;32m   1687\u001b[0m             \u001b[0;31m# do what we can to clean up\u001b[0m\u001b[0;34m\u001b[0m\u001b[0;34m\u001b[0m\u001b[0m\n\u001b[1;32m   1688\u001b[0m             \u001b[0;32mif\u001b[0m \u001b[0mopen_fp\u001b[0m\u001b[0;34m:\u001b[0m\u001b[0;34m\u001b[0m\u001b[0m\n\u001b[0;32m-> 1689\u001b[0;31m                 \u001b[0mfp\u001b[0m\u001b[0;34m.\u001b[0m\u001b[0mclose\u001b[0m\u001b[0;34m(\u001b[0m\u001b[0;34m)\u001b[0m\u001b[0;34m\u001b[0m\u001b[0m\n\u001b[0m\u001b[1;32m   1690\u001b[0m \u001b[0;34m\u001b[0m\u001b[0m\n\u001b[1;32m   1691\u001b[0m     \u001b[0;32mdef\u001b[0m \u001b[0mseek\u001b[0m\u001b[0;34m(\u001b[0m\u001b[0mself\u001b[0m\u001b[0;34m,\u001b[0m \u001b[0mframe\u001b[0m\u001b[0;34m)\u001b[0m\u001b[0;34m:\u001b[0m\u001b[0;34m\u001b[0m\u001b[0m\n",
      "\u001b[0;31mKeyboardInterrupt\u001b[0m: "
     ]
    }
   ],
   "source": [
    "i = 0\n",
    "\n",
    "for root, dirs, files in os.walk(DATA_DIR):\n",
    "    for file in files:\n",
    "        if (file.endswith('.mhd')) & ('__MACOSX' not in root):  # Don't get the Macintosh directory\n",
    "            \n",
    "            img_file = os.path.join(root, file)\n",
    "            patchesArray, valuesArray, noduleDiameter = extractCandidates(img_file)   \n",
    "             \n",
    "            SavePatches(img_file, patchesArray, valuesArray)\n",
    "            \n",
    "           "
   ]
  },
  {
   "cell_type": "code",
   "execution_count": null,
   "metadata": {
    "collapsed": true
   },
   "outputs": [],
   "source": []
  }
 ],
 "metadata": {
  "kernelspec": {
   "display_name": "neon",
   "language": "python",
   "name": "neon"
  },
  "language_info": {
   "codemirror_mode": {
    "name": "ipython",
    "version": 2
   },
   "file_extension": ".py",
   "mimetype": "text/x-python",
   "name": "python",
   "nbconvert_exporter": "python",
   "pygments_lexer": "ipython2",
   "version": "2.7.13"
  }
 },
 "nbformat": 4,
 "nbformat_minor": 2
}
