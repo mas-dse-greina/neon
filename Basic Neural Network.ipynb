{
 "cells": [
  {
   "cell_type": "markdown",
   "metadata": {},
   "source": [
    "# A Basic Neural Network\n",
    "\n",
    "Here's a neural network with one input layer and one output layer (just a single neuron).\n",
    "This shows the idea behind forward and backward propagation.\n",
    "\n",
    "This is taken from:\n",
    "\n",
    "https://iamtrask.github.io/2015/07/12/basic-python-network/\n",
    "\n",
    "Here are some great references for this:\n",
    "\n",
    "http://neuralnetworksanddeeplearning.com/chap3.html\n",
    "\n",
    "https://youtu.be/QWfmCyLEQ8U\n",
    "\n",
    "https://www.ics.uci.edu/~pjsadows/notes.pdf\n"
   ]
  },
  {
   "cell_type": "code",
   "execution_count": 1,
   "metadata": {
    "collapsed": true
   },
   "outputs": [],
   "source": [
    "#!/usr/bin/env python\n",
    "'''\n",
    "Simple two layer neural network (input/output) with backprogation\n",
    "Sigmoid activation function\n",
    "Cross entropy loss function\n",
    "'''\n",
    "import numpy as np\n",
    "import matplotlib.pyplot as plt\n",
    "\n",
    "%matplotlib inline"
   ]
  },
  {
   "cell_type": "code",
   "execution_count": 2,
   "metadata": {
    "collapsed": true
   },
   "outputs": [],
   "source": [
    "def activation_function(x,backprop=False):\n",
    "\n",
    "    '''\n",
    "    We are using the sigmoid activation function.\n",
    "    In forward propagation, we just calculate the sigmoid.\n",
    "    In backward propagation, we calculate the derivative of the sigmoid\n",
    "    '''\n",
    "    if(backprop==True):\n",
    "        return x*(1-x) # Derviative of the sigmoid function\n",
    "\n",
    "    return 1/(1+np.exp(-x))"
   ]
  },
  {
   "cell_type": "code",
   "execution_count": 3,
   "metadata": {
    "collapsed": true
   },
   "outputs": [],
   "source": [
    "# input dataset\n",
    "\n",
    "X = np.array([  [0,0,1],\n",
    "                [0,1,1],\n",
    "                [1,0,1],\n",
    "                [1,1,1] ])\n",
    "\n",
    "# output dataset           \n",
    "\n",
    "y = np.array([[0,0,1,1]]).T\n",
    "\n",
    "assert X.shape[0] == y.shape[0], 'input and output must have same number of samples'"
   ]
  },
  {
   "cell_type": "code",
   "execution_count": 4,
   "metadata": {
    "collapsed": true
   },
   "outputs": [],
   "source": [
    "# seed random numbers to make calculation\n",
    "# deterministic (just a good practice)\n",
    "np.random.seed(1)\n",
    "\n",
    "# initialize weights randomly with mean 0\n",
    "syn0 = 2*np.random.random((X.shape[1],1)).clip(0,1) - 1"
   ]
  },
  {
   "cell_type": "code",
   "execution_count": 5,
   "metadata": {},
   "outputs": [
    {
     "name": "stdout",
     "output_type": "stream",
     "text": [
      "Output Before Training:\n",
      "[[ 0.2689864 ]\n",
      " [ 0.36375058]\n",
      " [ 0.23762817]\n",
      " [ 0.3262757 ]]\n",
      "Output After Training:\n",
      "[[ 0.07553274]\n",
      " [ 0.06168483]\n",
      " [ 0.95008079]\n",
      " [ 0.93870164]]\n",
      "Weights After Training:\n",
      "[[ 5.45668723]\n",
      " [-0.21743969]\n",
      " [-2.50760127]]\n"
     ]
    },
    {
     "data": {
      "image/png": "[encoded data removed]",
      "text/plain": [
       "<matplotlib.figure.Figure at 0x10933e1d0>"
      ]
     },
     "metadata": {},
     "output_type": "display_data"
    }
   ],
   "source": [
    "loss = []\n",
    "\n",
    "num_epochs = 200\n",
    "\n",
    "for iter in xrange(num_epochs):\n",
    "\n",
    "    # forward propagation\n",
    "    layer0 = X\n",
    "    layer1 = activation_function(np.dot(layer0,syn0)) #Dot product is another way to multiply weights and then sum\n",
    "    \n",
    "    if (iter == 0):\n",
    "        print \"Output Before Training:\"\n",
    "        print layer1\n",
    "\n",
    "    # how much did we miss?\n",
    "    layer1_error = y - layer1\n",
    "\n",
    "    # Backward propagation\n",
    "    # multiply how much we missed by the\n",
    "    # slope of the sigmoid at the values in layer1\n",
    "    layer1_delta = layer1_error * activation_function(layer1, True)\n",
    "    \n",
    "    # Keep track of the cross entropy (binary) loss\n",
    "    loss.append(np.mean(np.log(1-layer1)*(y - 1) - np.log(layer1)*y))\n",
    "\n",
    "    # update weights\n",
    "    syn0 += np.dot(layer0.T, layer1_delta)\n",
    "\n",
    "plt.plot(loss);\n",
    "plt.title('Cross entropy (binary) loss');\n",
    "plt.xlabel('Epoch');\n",
    "plt.ylabel('Loss');\n",
    "\n",
    "print \"Output After Training:\"\n",
    "print layer1\n",
    "\n",
    "print \"Weights After Training:\"\n",
    "print syn0"
   ]
  },
  {
   "cell_type": "code",
   "execution_count": null,
   "metadata": {
    "collapsed": true
   },
   "outputs": [],
   "source": []
  }
 ],
 "metadata": {
  "kernelspec": {
   "display_name": "Python 2",
   "language": "python",
   "name": "python2"
  },
  "language_info": {
   "codemirror_mode": {
    "name": "ipython",
    "version": 2
   },
   "file_extension": ".py",
   "mimetype": "text/x-python",
   "name": "python",
   "nbconvert_exporter": "python",
   "pygments_lexer": "ipython2",
   "version": "2.7.13"
  }
 },
 "nbformat": 4,
 "nbformat_minor": 2
}
